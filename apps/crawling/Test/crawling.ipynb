{
 "cells": [
  {
   "cell_type": "code",
   "execution_count": 1,
   "id": "1f72f95d",
   "metadata": {},
   "outputs": [
    {
     "name": "stdout",
     "output_type": "stream",
     "text": [
      "['c:\\\\Users\\\\sim\\\\anaconda3\\\\envs\\\\musinsa\\\\python39.zip', 'c:\\\\Users\\\\sim\\\\anaconda3\\\\envs\\\\musinsa\\\\DLLs', 'c:\\\\Users\\\\sim\\\\anaconda3\\\\envs\\\\musinsa\\\\lib', 'c:\\\\Users\\\\sim\\\\anaconda3\\\\envs\\\\musinsa', '', 'c:\\\\Users\\\\sim\\\\anaconda3\\\\envs\\\\musinsa\\\\lib\\\\site-packages', 'c:\\\\Users\\\\sim\\\\anaconda3\\\\envs\\\\musinsa\\\\lib\\\\site-packages\\\\win32', 'c:\\\\Users\\\\sim\\\\anaconda3\\\\envs\\\\musinsa\\\\lib\\\\site-packages\\\\win32\\\\lib', 'c:\\\\Users\\\\sim\\\\anaconda3\\\\envs\\\\musinsa\\\\lib\\\\site-packages\\\\Pythonwin', 'c:\\\\Users\\\\sim\\\\Desktop\\\\musinsa\\\\apps']\n"
     ]
    }
   ],
   "source": [
    "import sys\n",
    "import os\n",
    "\n",
    "# 경로 추가\n",
    "sys.path.append(os.path.abspath(\"../../\"))\n",
    "# 추가된 경로 확인\n",
    "print(sys.path)\n",
    "\n",
    "import crawling.webClass as webclass"
   ]
  },
  {
   "cell_type": "code",
   "execution_count": null,
   "id": "dd0f1c44",
   "metadata": {},
   "outputs": [],
   "source": [
    "obj1 = webclass.webInfo(\"https://www.musinsa.com/brand/musinsastandard/products?gf=A\")\n",
    "# 설정 url 오픈\n",
    "obj1.open_url()\n",
    "# 상품 전체 개수 확인 \n",
    "obj1.set_product_count()"
   ]
  },
  {
   "cell_type": "code",
   "execution_count": null,
   "id": "1f8220a5",
   "metadata": {},
   "outputs": [],
   "source": []
  }
 ],
 "metadata": {
  "kernelspec": {
   "display_name": "musinsa",
   "language": "python",
   "name": "python3"
  },
  "language_info": {
   "codemirror_mode": {
    "name": "ipython",
    "version": 3
   },
   "file_extension": ".py",
   "mimetype": "text/x-python",
   "name": "python",
   "nbconvert_exporter": "python",
   "pygments_lexer": "ipython3",
   "version": "3.9.21"
  }
 },
 "nbformat": 4,
 "nbformat_minor": 5
}
