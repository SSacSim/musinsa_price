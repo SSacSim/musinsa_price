{
 "cells": [
  {
   "cell_type": "code",
   "execution_count": null,
   "id": "e8268f17",
   "metadata": {},
   "outputs": [],
   "source": [
    "import csv\n",
    "import psycopg2\n",
    "from datetime import datetime\n",
    "import pandas as pd \n",
    "import glob\n",
    "\n",
    "# DB 연결 설정\n",
    "conn = psycopg2.connect(\n",
    "    dbname=\"musinsa_db\",\n",
    "    user=\"sim\",\n",
    "    password=\"gkdustn123\",\n",
    "    host=\"localhost\",\n",
    "    port=\"5432\"\n",
    ")\n",
    "cur = conn.cursor()\n",
    "\n",
    "# 파일 이름에서 날짜 추출\n",
    "data_list = glob.glob('../../datas/*')\n",
    "for csv_file in data_list:\n",
    "    날짜 = datetime.strptime(csv_file.split(\"\\\\\")[-1].replace(\".csv\", \"\"), \"%Y-%m-%d\").date()\n",
    "\n",
    "    # CSV 읽고 삽입\n",
    "    with open(csv_file, newline='', encoding='utf-8-sig') as f:\n",
    "        reader = csv.DictReader(f)\n",
    "        for row in reader:\n",
    "            cur.execute(\"\"\"\n",
    "                INSERT INTO products (날짜, 상품번호, 상품명, 할인율, 가격, 좋아요, 평점, 리뷰, etc)\n",
    "                VALUES (%s, %s, %s, %s, %s, %s, %s, %s, %s)\n",
    "            \"\"\", (\n",
    "                날짜,\n",
    "                row['상품번호'],\n",
    "                row['상품명'],\n",
    "                row['할인율'],\n",
    "                row['가격'],\n",
    "                row['좋아요'],\n",
    "                row['평점'],\n",
    "                row['리뷰'],\n",
    "                row['etc']\n",
    "            ))\n",
    "\n",
    "    conn.commit()\n",
    "cur.close()\n",
    "conn.close()\n"
   ]
  },
  {
   "cell_type": "code",
   "execution_count": 22,
   "id": "7cec6588",
   "metadata": {},
   "outputs": [
    {
     "data": {
      "text/plain": [
       "['../../datas\\\\2025-04-25.csv',\n",
       " '../../datas\\\\2025-04-26.csv',\n",
       " '../../datas\\\\2025-04-28.csv',\n",
       " '../../datas\\\\2025-05-03.csv',\n",
       " '../../datas\\\\2025-05-05.csv']"
      ]
     },
     "execution_count": 22,
     "metadata": {},
     "output_type": "execute_result"
    }
   ],
   "source": [
    "import glob\n",
    "glob.glob('../../datas/*')"
   ]
  },
  {
   "cell_type": "code",
   "execution_count": 21,
   "id": "0f924adc",
   "metadata": {},
   "outputs": [
    {
     "data": {
      "text/plain": [
       "'c:\\\\Users\\\\sim\\\\Desktop\\\\musinsa\\\\apps\\\\db'"
      ]
     },
     "execution_count": 21,
     "metadata": {},
     "output_type": "execute_result"
    }
   ],
   "source": [
    "pwd"
   ]
  }
 ],
 "metadata": {
  "kernelspec": {
   "display_name": "musinsa",
   "language": "python",
   "name": "python3"
  },
  "language_info": {
   "codemirror_mode": {
    "name": "ipython",
    "version": 3
   },
   "file_extension": ".py",
   "mimetype": "text/x-python",
   "name": "python",
   "nbconvert_exporter": "python",
   "pygments_lexer": "ipython3",
   "version": "3.9.21"
  }
 },
 "nbformat": 4,
 "nbformat_minor": 5
}
