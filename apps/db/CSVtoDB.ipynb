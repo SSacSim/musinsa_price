{
 "cells": [
  {
   "cell_type": "code",
   "execution_count": 30,
   "id": "9f35f3dc",
   "metadata": {},
   "outputs": [],
   "source": [
    "import re \n",
    "import csv\n",
    "import psycopg2\n",
    "from datetime import datetime\n",
    "import pandas as pd \n",
    "import glob\n",
    "\n",
    "class DBOBJ():\n",
    "    def __init__(self , dbname = \"musinsa_db\", id = \"sim\" , pwd =\"gkdustn123\", host = \"localhost\", port = \"5432\" ):\n",
    "        self.conn = psycopg2.connect(\n",
    "                dbname=dbname,\n",
    "                user=id,\n",
    "                password=pwd,\n",
    "                host=host,\n",
    "                port=port\n",
    "            )\n",
    "        \n",
    "        self.cur = self.conn.cursor()\n",
    "\n",
    "    \n",
    "    def insert_data(self , data = None):\n",
    "        '''\n",
    "            csv 파일로 되어있는 정보를 DB에 입력         \n",
    "        '''\n",
    "\n",
    "        # 파일 이름에서 날짜 추출\n",
    "        if data is not None :\n",
    "            data_list = [r'C:\\\\Users\\\\sim\\\\Desktop\\\\musinsa\\datas\\\\' + data]\n",
    "        else:\n",
    "            data_list = glob.glob('../../datas/*')\n",
    "\n",
    "        print(\"data_list\" , data_list)\n",
    "        for csv_file in data_list:\n",
    "            날짜 = datetime.strptime(csv_file.split(\"\\\\\")[-1].replace(\".csv\", \"\"), \"%Y-%m-%d\").date()\n",
    "\n",
    "            # CSV 읽고 삽입\n",
    "            with open(csv_file, newline='', encoding='utf-8-sig') as f:\n",
    "                reader = csv.DictReader(f)\n",
    "                for row in reader:\n",
    "                    self.cur.execute(\"\"\"\n",
    "                        INSERT INTO products (날짜, 상품번호, 상품명, 할인율, 가격, 좋아요, 평점, 리뷰, etc , src)\n",
    "                        VALUES (%s, %s, %s, %s, %s, %s, %s, %s, %s, %s)\n",
    "                    \"\"\", (\n",
    "                        날짜,\n",
    "                        row['상품번호'],\n",
    "                        row['상품명'],\n",
    "                        row['할인율'],\n",
    "                        row['가격'],\n",
    "                        row['좋아요'],\n",
    "                        row['평점'],\n",
    "                        row['리뷰'],\n",
    "                        row['etc'],\n",
    "                        row[\"src\"]\n",
    "                    ))\n",
    "\n",
    "            self.conn.commit()\n",
    "\n",
    "    def search_items(self, item_index = None, item_name = None, ):\n",
    "        '''\n",
    "            item_index : 상품 번호 \n",
    "            item_name : 상품명 ( 추후 기능 추가를 위해 )\n",
    "        '''\n",
    "        item_index = str(item_index)\n",
    "        self.cur.execute(\"\"\"\n",
    "            SELECT * FROM products \n",
    "            WHERE 상품번호 = %s\n",
    "            ORDER BY 날짜\n",
    "        \"\"\", (item_index,))\n",
    "\n",
    "        rows = self.cur.fetchall()\n",
    "        cost = []\n",
    "        sale = []\n",
    "        date = []\n",
    "        info_dict = {}\n",
    "        for row in rows:\n",
    "            cost.append(0 if row[4] == \"\" else int(re.sub(r'[^\\d]', '', row[4])))\n",
    "            sale.append(0 if row[3] == \"\" else int(re.sub(r'[^\\d]', '', row[3])))\n",
    "            date.append(row[0].strftime(\"%Y-%m-%d\"))\n",
    "\n",
    "        info_dict[\"날짜\"] = row[0].strftime(\"%Y-%m-%d\")\n",
    "        info_dict[\"상품번호\"] = row[1]\n",
    "        info_dict[\"상품명\"] = row[2]\n",
    "        info_dict[\"할인율\"] = row[3]\n",
    "        info_dict[\"가격\"] = row[4]\n",
    "        info_dict[\"좋아요\"] = row[5]\n",
    "        info_dict[\"평점\"] = row[6]\n",
    "        info_dict[\"리뷰\"] = row[7]\n",
    "        info_dict[\"etc\"] = row[8]\n",
    "        info_dict[\"src\"] = row[9]\n",
    "\n",
    "        \n",
    "        self.conn.commit()\n",
    "        return cost, sale, date , info_dict, rows\n",
    "    \n",
    "    def valid_item(self, item_index = None, ):\n",
    "        '''\n",
    "            유효한 상품이 존재하는지 파악하기 위한 것 \n",
    "            item_index : 상품 번호 \n",
    "            \n",
    "        '''\n",
    "\n",
    "        self.cur.execute(\"\"\"\n",
    "                            SELECT EXISTS (\n",
    "                                SELECT 1 FROM products\n",
    "                                WHERE 상품번호 = %s\n",
    "                            )\n",
    "                        \"\"\", (item_index,))\n",
    "        exists = self.cur.fetchone()[0]  # True 또는 False\n",
    "\n",
    "        return exists\n",
    "        "
   ]
  },
  {
   "cell_type": "code",
   "execution_count": 31,
   "id": "491ddf59",
   "metadata": {},
   "outputs": [
    {
     "name": "stdout",
     "output_type": "stream",
     "text": [
      "data_list ['../../datas\\\\2025-05-06.csv', '../../datas\\\\2025-05-07.csv', '../../datas\\\\2025-05-08.csv', '../../datas\\\\2025-05-09.csv', '../../datas\\\\2025-05-10.csv', '../../datas\\\\2025-05-11.csv', '../../datas\\\\2025-05-12.csv', '../../datas\\\\2025-05-13.csv', '../../datas\\\\2025-05-14.csv', '../../datas\\\\2025-05-15.csv', '../../datas\\\\2025-05-16.csv', '../../datas\\\\2025-05-17.csv', '../../datas\\\\2025-05-18.csv', '../../datas\\\\2025-05-19.csv', '../../datas\\\\2025-05-20.csv', '../../datas\\\\2025-05-21.csv']\n"
     ]
    }
   ],
   "source": [
    "db_.insert_data()"
   ]
  },
  {
   "cell_type": "code",
   "execution_count": 32,
   "id": "043887da",
   "metadata": {},
   "outputs": [],
   "source": [
    "cost,sale, date , products, rows= db_.search_items('3779132')"
   ]
  },
  {
   "cell_type": "code",
   "execution_count": 33,
   "id": "19bad4c3",
   "metadata": {},
   "outputs": [
    {
     "data": {
      "text/plain": [
       "['2025-04-28',\n",
       " '2025-05-03',\n",
       " '2025-05-05',\n",
       " '2025-05-06',\n",
       " '2025-05-07',\n",
       " '2025-05-08',\n",
       " '2025-05-09',\n",
       " '2025-05-10',\n",
       " '2025-05-11',\n",
       " '2025-05-12']"
      ]
     },
     "execution_count": 33,
     "metadata": {},
     "output_type": "execute_result"
    }
   ],
   "source": [
    "date"
   ]
  },
  {
   "cell_type": "code",
   "execution_count": 16,
   "id": "3025ff33",
   "metadata": {},
   "outputs": [
    {
     "data": {
      "text/plain": [
       "True"
      ]
     },
     "execution_count": 16,
     "metadata": {},
     "output_type": "execute_result"
    }
   ],
   "source": [
    "db_.valid_item('3779132')"
   ]
  },
  {
   "cell_type": "code",
   "execution_count": 17,
   "id": "37bae3da",
   "metadata": {},
   "outputs": [
    {
     "data": {
      "text/plain": [
       "'2025-05-12'"
      ]
     },
     "execution_count": 17,
     "metadata": {},
     "output_type": "execute_result"
    }
   ],
   "source": [
    "products[\"날짜\"]"
   ]
  }
 ],
 "metadata": {
  "kernelspec": {
   "display_name": "musinsa",
   "language": "python",
   "name": "python3"
  },
  "language_info": {
   "codemirror_mode": {
    "name": "ipython",
    "version": 3
   },
   "file_extension": ".py",
   "mimetype": "text/x-python",
   "name": "python",
   "nbconvert_exporter": "python",
   "pygments_lexer": "ipython3",
   "version": "3.9.21"
  }
 },
 "nbformat": 4,
 "nbformat_minor": 5
}
